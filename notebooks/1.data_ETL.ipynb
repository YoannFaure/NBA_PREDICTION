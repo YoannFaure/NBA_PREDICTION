{
 "cells": [
  {
   "cell_type": "markdown",
   "metadata": {},
   "source": [
    "Ce notebook a pour objectif de récupérer les informations des différents dataframe Kaggle disponibles afin de créer une dataframe **best_player.csv**\n",
    "\n",
    "Les données utilisées proviennent du site kaggle : \n",
    "- dataset des tirs NBA entre 1997 et 2019 : [kaggle](https://www.kaggle.com/jonathangmwl/nba-shot-locations)\n",
    "- dataset des bilans d’équipe entre 2014 et 2018 : [kaggle](https://www.kaggle.com/nathanlauga/nba-games?select=ranking.csv)\n",
    "- dataset des joueurs de NBA depuis 1950 : [kaggle](https://www.kaggle.com/drgilermo/nba-players-stats?select=Players.csv)\n"
   ]
  },
  {
   "cell_type": "markdown",
   "metadata": {},
   "source": [
    "# Package & data"
   ]
  },
  {
   "cell_type": "code",
   "execution_count": null,
   "metadata": {},
   "outputs": [],
   "source": [
    "import pandas as pd\n",
    "import numpy as np\n"
   ]
  },
  {
   "cell_type": "code",
   "execution_count": null,
   "metadata": {},
   "outputs": [],
   "source": [
    "# Load data\n",
    "\n",
    "shot_location = pd.read_csv(\"../data/raw/NBA_Shot_Locations_1997-2020/NBA_Shot_Locations_1997-2020.zip\")\n",
    "players = pd.read_csv(\"../data/raw/NBA_Players_stats_since_1950/Players.zip\")\n",
    "players_data = pd.read_csv(\"../data/raw/NBA_Players_stats_since_1950/player_data.zip\")\n",
    "seasons_stats = pd.read_csv(\"../data/raw/NBA_Players_stats_since_1950/Seasons_Stats.zip\")\n"
   ]
  },
  {
   "cell_type": "markdown",
   "metadata": {},
   "source": [
    "# ETL"
   ]
  },
  {
   "cell_type": "code",
   "execution_count": null,
   "metadata": {},
   "outputs": [],
   "source": [
    "# Category Mapping des ActionTypes\n",
    "\n",
    "action_mapping = pd.read_csv(\"../data/config/ActionMapping_4.csv\")\n",
    "action_mapping.replace(np.NaN, 0, inplace=True)\n",
    "\n",
    "cols = action_mapping.columns[1:]\n",
    "action_mapping[cols] = action_mapping[cols].astype(int)\n",
    "\n",
    "shot_location = shot_location.merge(action_mapping, on='Action Type', how='inner')\n",
    "shot_location.drop(['Action Type'], axis=1, inplace=True)\n"
   ]
  },
  {
   "cell_type": "code",
   "execution_count": null,
   "metadata": {},
   "outputs": [],
   "source": [
    "display(shot_location.info())\n",
    "display(shot_location.head(5))"
   ]
  },
  {
   "cell_type": "markdown",
   "metadata": {},
   "source": [
    "## df shot_location\n",
    "\n",
    "- Transformation des variables en datetime\n",
    "- Création d'une colonne seconde restante"
   ]
  },
  {
   "cell_type": "code",
   "execution_count": null,
   "metadata": {},
   "outputs": [],
   "source": [
    "###### clean shot_location info from shot_location.csv ######\n",
    "\n",
    "# Type columns\n",
    "shot_location['Game Date'] = pd.to_datetime(shot_location['Game Date'], format='%Y%m%d')\n",
    "\n",
    "# Create columns\n",
    "shot_location['GAME_YEAR'] = shot_location['Game Date'].dt.year\n",
    "shot_location['GAME_YEAR'] = shot_location['GAME_YEAR'].astype(int)\n",
    "shot_location['GAME_PERIODE_SECOND_REMAINGING'] = shot_location['Minutes Remaining'] * 60 + shot_location['Seconds Remaining']\n",
    "shot_location = shot_location.drop(['Minutes Remaining', 'Seconds Remaining'], axis=1)\n"
   ]
  },
  {
   "cell_type": "markdown",
   "metadata": {},
   "source": [
    "## df players\n",
    "\n",
    "- Récupération des informations sur les joueurs\n",
    "- Création d'une colonne secondes restantes"
   ]
  },
  {
   "cell_type": "code",
   "execution_count": null,
   "metadata": {},
   "outputs": [],
   "source": [
    "###### Clean player info from players.csv ######\n",
    "players = players[['Player', 'height', 'weight','born']]\n",
    "\n",
    "# Merge shot location & players (add players characteristics from players.csv)\n",
    "nba_data = pd.merge(shot_location, players, left_on='Player Name', right_on='Player', how='inner')\n",
    "\n",
    "# Type columns\n",
    "nba_data['height'] = nba_data['height'].astype(int)\n",
    "nba_data['weight'] = nba_data['weight'].astype(int)\n",
    "nba_data['born'] = pd.to_datetime(nba_data['born'], format='%Y').dt.year\n",
    "nba_data['Game Date'] = pd.to_datetime(nba_data['Game Date'], format='%Y%m%d')\n",
    "\n",
    "nba_data.head()"
   ]
  },
  {
   "cell_type": "markdown",
   "metadata": {},
   "source": [
    "## df seasons_stats\n",
    "\n",
    "- Récupération des informations sur les joueurs\n",
    "- Harmonisation du naming\n"
   ]
  },
  {
   "cell_type": "code",
   "execution_count": null,
   "metadata": {},
   "outputs": [],
   "source": [
    "###### Load & clean player info from seasons_stats.csv ######\n",
    "player_info = seasons_stats[['Player', 'Pos', 'Year']]\n",
    "player_info = player_info.dropna()\n",
    "player_info['Year'] = player_info['Year'].astype(int)\n",
    "player_info = player_info.rename(columns={'Year': 'GAME_YEAR', 'Player': 'Player Name'})\n",
    "\n",
    "# Merge nba_data & player_info(add players info)\n",
    "nba_data = pd.merge(nba_data, player_info, on=['Player Name', 'GAME_YEAR'], how='inner')\n",
    "nba_data.drop(\"Player\", axis=1, inplace=True)\n",
    "\n",
    "nba_data.head()\n"
   ]
  },
  {
   "cell_type": "markdown",
   "metadata": {},
   "source": [
    "## df players_data\n",
    "\n",
    "- Récupération des informations sur les joueurs\n",
    "- Création d'une colonne PLAYER_EXP et PLAYER_GAME_AGE\n",
    "- Merge des dataframes\n",
    "- Réorganisation de l'ordre des colonnes\n",
    "- Harmonisation du naming des colonnes\n"
   ]
  },
  {
   "cell_type": "code",
   "execution_count": null,
   "metadata": {},
   "outputs": [],
   "source": [
    "###### Load & clean player data from players_data.csv ######\n",
    "\n",
    "players_data = players_data[['name', 'year_start']]\n",
    "players_data = players_data.rename(columns={'name': 'Player Name'})\n",
    "\n",
    "# Merge nba_data & players_data(add players year_start)\n",
    "nba_data = pd.merge(nba_data, players_data, on='Player Name', how='inner')\n",
    "\n",
    "# Create columns PLAYER_EXP & drop PLAYER_EXP < 0\n",
    "nba_data[\"PLAYER_EXP\"] = nba_data[\"GAME_YEAR\"] - nba_data[\"year_start\"]\n",
    "nba_data = nba_data[nba_data[\"PLAYER_EXP\"] >= 0]\n",
    "\n",
    "## Create columns PLAYER_AGE\n",
    "nba_data[\"PLAYER_GAME_AGE\"] = nba_data[\"GAME_YEAR\"] - nba_data[\"born\"]\n",
    "\n",
    "nba_data.head()\n"
   ]
  },
  {
   "cell_type": "code",
   "execution_count": null,
   "metadata": {},
   "outputs": [],
   "source": [
    "###### columns transform ######\n",
    "# # Order columns\n",
    "new_order = [\n",
    "    'Player ID',\n",
    "    'Player Name',\n",
    "    'Pos',\n",
    "    'year_start',\n",
    "    'PLAYER_GAME_AGE',\n",
    "    'height',\n",
    "    'weight',\n",
    "    'born',\n",
    "    'PLAYER_EXP',\n",
    "    'Game ID',\n",
    "    'Game Event ID',\n",
    "    'GAME_YEAR',\n",
    "    'Game Date',\n",
    "    'Season Type',\n",
    "    'Team ID',\n",
    "    'Team Name',\n",
    "    'Home Team',\n",
    "    'Away Team',\n",
    "    'Period',\n",
    "    'GAME_PERIODE_SECOND_REMAINGING',\n",
    "    'SHOT_ACTION_CATEGORY_SHOOT',\n",
    "    'SHOT_ACTION_CATEGORY_DUNK',\n",
    "    'SHOT_ACTION_CATEGORY_LAYUP',\n",
    "    'SHOT_ACTION_CATEGORY_OTHER',\n",
    "    'Shot Type',\n",
    "    'Shot Zone Basic',\n",
    "    'Shot Zone Area',\n",
    "    'Shot Zone Range',\n",
    "    'Shot Distance',\n",
    "    'X Location',\n",
    "    'Y Location',\n",
    "    'Shot Made Flag'\n",
    "]\n",
    "nba_data = nba_data[new_order]\n",
    "\n",
    "# Rename columns\n",
    "column_mapping = {\n",
    "    'Player ID': 'PLAYER_ID',\n",
    "    'Player Name': 'PLAYER_NAME',\n",
    "    'Pos': 'PLAYER_POS',\n",
    "    'year_start': 'PLAYER_YEAR_START',\n",
    "    'PLAYER_GAME_AGE': 'PLAYER_GAME_AGE',\n",
    "    'height': 'PLAYER_HEIGHT',\n",
    "    'weight': 'PLAYER_WEIGHT',\n",
    "    'born': 'PLAYER_BORN_YEAR',\n",
    "    'PLAYER_EXP': 'PLAYER_EXP',\n",
    "    'Game ID': 'GAME_ID',\n",
    "    'Game Event ID': 'GAME_EVENT_ID',\n",
    "    'GAME_YEAR': 'GAME_YEAR',\n",
    "    'Game Date': 'GAME_DATE',\n",
    "    'Season Type': 'GAME_SEASON_TYPE',\n",
    "    'Team ID': 'GAME_TEAM_ID',\n",
    "    'Team Name': 'GAME_TEAM_NAME',\n",
    "    'Home Team': 'GAME_HOME_TEAM',\n",
    "    'Away Team': 'GAME_AWAY_TEAM',\n",
    "    'Period': 'GAME_PERIOD',\n",
    "    'GAME_PERIODE_SECOND_REMAINGING': 'GAME_PERIODE_SECOND_REMAINGING',\n",
    "    'SHOT_ACTION_CATEGORY_SHOOT': 'SHOT_ACTION_CATEGORY_SHOOT',\n",
    "    'SHOT_ACTION_CATEGORY_DUNK': 'SHOT_ACTION_CATEGORY_DUNK',\n",
    "    'SHOT_ACTION_CATEGORY_LAYUP': 'SHOT_ACTION_CATEGORY_LAYUP',\n",
    "    'SHOT_ACTION_CATEGORY_OTHER': 'SHOT_ACTION_CATEGORY_OTHER',\n",
    "    'Shot Type': 'SHOT_TYPE',\n",
    "    'Shot Zone Basic': 'SHOT_ZONE_BASIC',\n",
    "    'Shot Zone Area': 'SHOT_ZONE_AREA',\n",
    "    'Shot Zone Range': 'SHOT_ZONE_RANGE',\n",
    "    'Shot Distance': 'SHOT_DISTANCE',\n",
    "    'X Location': 'SHOT_X_LOCATION',\n",
    "    'Y Location': 'SHOT_Y_LOCATION',\n",
    "    'Shot Made Flag': 'SHOT_MADE_FLAG'\n",
    "}\n",
    "\n",
    "nba_data.rename(columns=column_mapping, inplace=True)\n",
    "\n",
    "# Drop na & duplicate\n",
    "nba_data.dropna(inplace=True)\n",
    "nba_data.drop_duplicates(inplace=True)\n",
    "\n",
    "nba_data.head()"
   ]
  },
  {
   "cell_type": "markdown",
   "metadata": {},
   "source": [
    "## Create best_player dataframe\n",
    "\n",
    "- Récupération de la liste des 20 meilleurs joueurs dans le fichier TopPlayers.csv\n",
    "- Cleanning sur les post des joueurs"
   ]
  },
  {
   "cell_type": "code",
   "execution_count": null,
   "metadata": {},
   "outputs": [],
   "source": [
    "top_players = pd.read_csv(\"../data/config/TopPlayers.csv\")\n",
    "\n",
    "# verify player is in nba_data\n",
    "players_in_data = nba_data[\"PLAYER_NAME\"].unique()\n",
    "players_not_in_data = [player for player in top_players['PlayerName'] if player not in players_in_data]\n",
    "if not players_not_in_data:\n",
    "    print(\"Tous les joueurs sont dans le dataframe.\")\n",
    "else:\n",
    "    print(\"Les joueurs suivants ne sont pas dans le dataframe :\")\n",
    "    for player in players_not_in_data:\n",
    "        print(player)\n",
    "\n",
    "# Create dataframe\n",
    "best_players = nba_data[nba_data[\"PLAYER_NAME\"].isin(top_players['PlayerName'])]\n",
    "\n",
    "# Keep single position\n",
    "single_pos = ['SG', 'SF', 'PG', 'PF', 'C']\n",
    "best_players = best_players[best_players['PLAYER_POS'].isin(single_pos)]\n",
    "\n",
    "# Export best_player.csv\n",
    "\n",
    "best_players.to_csv(\"../data/preprocessed/best_player.csv\", index=False)\n",
    "display(best_players.head())\n",
    "\n",
    "print(best_players.shape[0])\n"
   ]
  },
  {
   "cell_type": "code",
   "execution_count": null,
   "metadata": {},
   "outputs": [],
   "source": [
    "best_players.info()"
   ]
  }
 ],
 "metadata": {
  "kernelspec": {
   "display_name": "NBA",
   "language": "python",
   "name": "python3"
  },
  "language_info": {
   "codemirror_mode": {
    "name": "ipython",
    "version": 3
   },
   "file_extension": ".py",
   "mimetype": "text/x-python",
   "name": "python",
   "nbconvert_exporter": "python",
   "pygments_lexer": "ipython3",
   "version": "3.10.13"
  }
 },
 "nbformat": 4,
 "nbformat_minor": 2
}
