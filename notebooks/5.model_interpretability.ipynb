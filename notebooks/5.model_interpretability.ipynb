{
 "cells": [
  {
   "cell_type": "markdown",
   "metadata": {},
   "source": [
    "Ce Notebook utilise la bibliothèque **SHAP** approfondir l'interpretabilité des différents modèles."
   ]
  },
  {
   "cell_type": "markdown",
   "metadata": {},
   "source": [
    "# Package & data"
   ]
  },
  {
   "cell_type": "code",
   "execution_count": null,
   "metadata": {},
   "outputs": [],
   "source": [
    "import pandas as pd\n",
    "import joblib\n",
    "from sklearn.tree import plot_tree\n",
    "import matplotlib.pyplot as plt\n",
    "import shap\n"
   ]
  },
  {
   "cell_type": "code",
   "execution_count": null,
   "metadata": {},
   "outputs": [],
   "source": [
    "# Chargement du modèle et des données\n",
    "best_player_logistic_model = joblib.load(\"../models/best_player/best_player_logistic_model.joblib\")\n",
    "best_player_decision_tree_model = joblib.load(\"../models/best_player/best_player_decision_tree_model.joblib\")\n",
    "best_player_adaboost_model = joblib.load(\"../models/best_player/best_player_adaboost_model.joblib\")\n",
    "best_player_gradient_boosting_model = joblib.load(\"../models/best_player/best_player_gradient_boosting_model.joblib\")\n",
    "best_player_lightgbm_model = joblib.load(\"../models/best_player/best_player_lightgbm_model.joblib\")\n",
    "best_player_xgboost_model = joblib.load(\"../models/best_player/best_player_xgboost_model.joblib\")\n",
    "\n",
    "# Assignation des différents modèles aux variables correspondantes\n",
    "logistic_model = best_player_logistic_model['best_model']\n",
    "decision_tree_model = best_player_decision_tree_model['best_model']\n",
    "adaboost_model = best_player_adaboost_model['best_model']\n",
    "gradient_boosting_model = best_player_gradient_boosting_model['best_model']\n",
    "lightgbm_model = best_player_lightgbm_model['best_model']\n",
    "xgboost_model = best_player_xgboost_model['best_model']\n",
    "\n",
    "# Load split data\n",
    "data_split = joblib.load(\"../models/best_player/best_player_split.joblib\")\n",
    "X_train, X_test, y_train, y_test = data_split['X_train'], data_split['X_test'], data_split['y_train'], data_split['y_test']\n",
    "\n",
    "\n"
   ]
  },
  {
   "cell_type": "markdown",
   "metadata": {},
   "source": [
    "# Interpretability \n",
    "\n",
    "Dans ce notebook nous nous focaliserons sur l'interpréabilité du X_test. Il serait possible à l'avenir de la comparer avec X_train par exemple.\n",
    "\n",
    "La méthodologie est la même pour les différents modèles : \n",
    "- création d'un explainer\n",
    "- calcul des shap values\n",
    "- enregistrement au format joblib\n",
    "\n",
    "## Logistic model "
   ]
  },
  {
   "cell_type": "code",
   "execution_count": null,
   "metadata": {},
   "outputs": [],
   "source": [
    "# Générer les valeurs SHAP pour les données de test & dump\n",
    "explainer = shap.Explainer(logistic_model, X_test)\n",
    "shap_values = explainer(X_test)\n",
    "\n",
    "joblib.dump(shap_values, '../models/shap_values/shap_values_logistic_model.joblib')\n"
   ]
  },
  {
   "cell_type": "code",
   "execution_count": null,
   "metadata": {},
   "outputs": [],
   "source": [
    "# Import shap values\n",
    "shap_values = joblib.load('../models/shap_values/shap_values_logistic_model.joblib')\n",
    "\n",
    "# Global\n",
    "shap.plots.bar(shap_values)\n",
    "shap.plots.beeswarm(shap_values)\n",
    "\n",
    "# Local\n",
    "shap.plots.waterfall(shap_values[0])\n",
    "shap.initjs()\n",
    "shap.plots.force(shap_values[0])\n",
    "\n"
   ]
  },
  {
   "cell_type": "markdown",
   "metadata": {},
   "source": [
    "## Decision Tree"
   ]
  },
  {
   "cell_type": "code",
   "execution_count": null,
   "metadata": {},
   "outputs": [],
   "source": [
    "# Générer les valeurs SHAP pour les données de test & dump\n",
    "explainer = shap.TreeExplainer(decision_tree_model)\n",
    "shap_values = explainer.shap_values(X_test)\n",
    "joblib.dump(shap_values, '../models/shap_values/shap_values_decision_tree_model.joblib')\n"
   ]
  },
  {
   "cell_type": "code",
   "execution_count": null,
   "metadata": {},
   "outputs": [],
   "source": [
    "# Import shap values\n",
    "shap_values = joblib.load('../models/shap_values/shap_values_decision_tree_model.joblib')\n",
    "\n",
    "# global\n",
    "plt.figure(figsize=(15,12))\n",
    "plot_tree(decision_tree_model, feature_names=X_test.columns.tolist(), filled=True, max_depth=3)\n"
   ]
  },
  {
   "cell_type": "code",
   "execution_count": null,
   "metadata": {},
   "outputs": [],
   "source": [
    "shap.summary_plot(shap_values, X_test, plot_type=\"bar\", show=True)\n"
   ]
  },
  {
   "cell_type": "markdown",
   "metadata": {},
   "source": [
    "## Ada Boost Model"
   ]
  },
  {
   "cell_type": "code",
   "execution_count": null,
   "metadata": {},
   "outputs": [],
   "source": [
    "# Global\n",
    "feature_importance = adaboost_model.feature_importances_\n",
    "df_feature_importance = pd.DataFrame({'Feature': X_test.columns, 'Importance': feature_importance})\n",
    "df_feature_importance = df_feature_importance.sort_values(by='Importance', ascending=True).tail(10)\n",
    "\n",
    "plt.figure(figsize=(10, 6))\n",
    "plt.barh(df_feature_importance['Feature'], df_feature_importance['Importance'])\n",
    "plt.tight_layout()\n",
    "plt.show()"
   ]
  },
  {
   "cell_type": "markdown",
   "metadata": {},
   "source": [
    "## Gradient Boosting Model"
   ]
  },
  {
   "cell_type": "code",
   "execution_count": null,
   "metadata": {},
   "outputs": [],
   "source": [
    "# Générer les valeurs SHAP pour les données de test & dump\n",
    "explainer = shap.TreeExplainer(gradient_boosting_model, X_test)\n",
    "shap_values = explainer(X_test)\n",
    "joblib.dump(shap_values, '../models/shap_values/shap_values_gradient_boosting_model.joblib')"
   ]
  },
  {
   "cell_type": "code",
   "execution_count": null,
   "metadata": {},
   "outputs": [],
   "source": [
    "# Import shap values\n",
    "shap_values = joblib.load('../models/shap_values/shap_values_gradient_boosting_model.joblib')\n",
    "\n",
    "# Global\n",
    "shap.plots.bar(shap_values)\n",
    "shap.plots.beeswarm(shap_values)\n",
    "\n",
    "# Local\n",
    "shap.plots.waterfall(shap_values[0])\n",
    "shap.initjs()\n",
    "shap.plots.force(shap_values[0])\n",
    "\n"
   ]
  },
  {
   "cell_type": "markdown",
   "metadata": {},
   "source": [
    "## Light GBM model"
   ]
  },
  {
   "cell_type": "code",
   "execution_count": null,
   "metadata": {},
   "outputs": [],
   "source": [
    "# Générer les valeurs SHAP pour les données de test & dump\n",
    "explainer = shap.TreeExplainer(lightgbm_model, X_test)\n",
    "shap_values = explainer(X_test)\n",
    "joblib.dump(shap_values, '../models/shap_values/shap_values_lightgbm_model.joblib')"
   ]
  },
  {
   "cell_type": "code",
   "execution_count": null,
   "metadata": {},
   "outputs": [],
   "source": [
    "# Import shap values\n",
    "shap_values = joblib.load('../models/shap_values/shap_values_lightgbm_model.joblib')\n",
    "\n",
    "# Global\n",
    "shap.plots.bar(shap_values)\n",
    "shap.plots.beeswarm(shap_values)\n",
    "\n",
    "# Local\n",
    "shap.plots.waterfall(shap_values[0])\n",
    "shap.initjs()\n",
    "shap.plots.force(shap_values[0])\n"
   ]
  },
  {
   "cell_type": "markdown",
   "metadata": {},
   "source": [
    "## XG Boost model"
   ]
  },
  {
   "cell_type": "code",
   "execution_count": null,
   "metadata": {},
   "outputs": [],
   "source": [
    "# Générer les valeurs SHAP pour les données de test & dump\n",
    "explainer = shap.TreeExplainer(xgboost_model, X_test)\n",
    "shap_values = explainer(X_test)\n",
    "joblib.dump(shap_values, '../models/shap_values/shap_values_xgboost_model.joblib')"
   ]
  },
  {
   "cell_type": "code",
   "execution_count": null,
   "metadata": {},
   "outputs": [],
   "source": [
    "# Import shap values\n",
    "shap_values = joblib.load('../models/shap_values/shap_values_xgboost_model.joblib')\n",
    "\n",
    "# Global\n",
    "shap.plots.bar(shap_values)\n",
    "shap.plots.beeswarm(shap_values)\n",
    "\n",
    "# Local\n",
    "shap.plots.waterfall(shap_values[0])\n",
    "shap.initjs()\n",
    "shap.plots.force(shap_values[0])\n"
   ]
  }
 ],
 "metadata": {
  "kernelspec": {
   "display_name": "NBA_Inter",
   "language": "python",
   "name": "python3"
  },
  "language_info": {
   "codemirror_mode": {
    "name": "ipython",
    "version": 3
   },
   "file_extension": ".py",
   "mimetype": "text/x-python",
   "name": "python",
   "nbconvert_exporter": "python",
   "pygments_lexer": "ipython3",
   "version": "3.10.13"
  }
 },
 "nbformat": 4,
 "nbformat_minor": 2
}
