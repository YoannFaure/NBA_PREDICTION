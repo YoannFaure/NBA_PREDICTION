{
 "cells": [
  {
   "cell_type": "markdown",
   "metadata": {},
   "source": [
    "Ce noteBook a pour objectif de préparer notre dataframe **best_player** avant l'entrainement de nos diffirents modèles de machine learning.\n",
    "\n",
    "- Création de dictionnaire pour la selection des features *(columns keep & columns dummies)*\n",
    "- Après plusieurs tests, nous avons décidé de ne pas standardiser les données des colonnes numériques car cela n'apporte aucune amélioration lors de l'entrainement des modèles *(cependant la possibilité de standardisation a été conservé en commentaire pour une potentielle réutilisation future)*  "
   ]
  },
  {
   "cell_type": "code",
   "execution_count": null,
   "metadata": {},
   "outputs": [],
   "source": [
    "import pandas as pd\n",
    "import numpy as np\n",
    "# from sklearn.preprocessing import StandardScaler\n"
   ]
  },
  {
   "cell_type": "code",
   "execution_count": null,
   "metadata": {},
   "outputs": [],
   "source": [
    "# columns dic\n",
    "'''Columns keep\n",
    "'PLAYER_HEIGHT',\n",
    "'PLAYER_WEIGHT',\n",
    "'PLAYER_EXP',\n",
    "'GAME_PERIOD',\n",
    "'GAME_PERIODE_SECOND_REMAINGING',\n",
    "'SHOT_DISTANCE',\n",
    "'''\n",
    "\n",
    "columns_to_drop = [\n",
    "    'PLAYER_ID',\n",
    "    'PLAYER_NAME',\n",
    "    'PLAYER_YEAR_START',\n",
    "    'PLAYER_GAME_AGE',\n",
    "    'PLAYER_BORN_YEAR',\n",
    "    'GAME_ID',\n",
    "    'GAME_EVENT_ID',\n",
    "    'GAME_YEAR',\n",
    "    'GAME_DATE',\n",
    "    'GAME_SEASON_TYPE',\n",
    "    'GAME_TEAM_ID',\n",
    "    'GAME_TEAM_NAME',\n",
    "    'GAME_HOME_TEAM',\n",
    "    'GAME_AWAY_TEAM',\n",
    "    'SHOT_X_LOCATION',\n",
    "    'SHOT_Y_LOCATION',\n",
    "    'PLAYER_BORN_YEAR'\n",
    "]\n",
    "\n",
    "# columns_to_scale = []\n",
    "\n",
    "categorical_columns = [\n",
    "    'PLAYER_POS',\n",
    "    'SHOT_TYPE',\n",
    "    'SHOT_ZONE_BASIC',\n",
    "    'SHOT_ZONE_AREA',\n",
    "    'SHOT_ZONE_RANGE'\n",
    "\n",
    "]\n",
    "\n",
    "def preprocess_data(data, categorical_columns, columns_to_drop, output_file):\n",
    "    # Encoding categorical columns\n",
    "    data_encoded = pd.get_dummies(data[categorical_columns], columns=categorical_columns)\n",
    "    data_encoded.rename(columns=lambda x: x.replace(' ', '_'), inplace=True)\n",
    "\n",
    "    # Convert boolean dummy columns to integers (0 or 1)\n",
    "    boolean_columns = data_encoded.select_dtypes(include=bool).columns\n",
    "    data_encoded[boolean_columns] = data_encoded[boolean_columns].astype(int)\n",
    "\n",
    "    # Concatenate encoded data with the original DataFrame\n",
    "    data = pd.concat([data, data_encoded], axis=1)\n",
    "\n",
    "    # Drop categorical columns\n",
    "    data = data.drop(categorical_columns, axis=1)\n",
    "\n",
    "    # Drop specified columns\n",
    "    data = data.drop(columns_to_drop, axis=1)\n",
    "    '''\n",
    "    # Scale columns\n",
    "    scaler = StandardScaler()\n",
    "    data[columns_to_scale] = scaler.fit_transform(data[columns_to_scale])\n",
    "    '''\n",
    "    # Save data\n",
    "    data.to_csv(output_file, index=False)\n",
    "    return data\n",
    "\n"
   ]
  },
  {
   "cell_type": "code",
   "execution_count": null,
   "metadata": {},
   "outputs": [],
   "source": [
    "best_player = pd.read_csv(\"../data/preprocessed/best_player.csv\")\n",
    "\n",
    "best_player_preprocessed = preprocess_data(\n",
    "    best_player, categorical_columns, columns_to_drop, \"../data/processed/best_player_preprocessed.csv\"\n",
    ")\n",
    "\n",
    "display(best_player_preprocessed.head())\n",
    "display(best_player_preprocessed.info())"
   ]
  }
 ],
 "metadata": {
  "kernelspec": {
   "display_name": "NBA",
   "language": "python",
   "name": "python3"
  },
  "language_info": {
   "codemirror_mode": {
    "name": "ipython",
    "version": 3
   },
   "file_extension": ".py",
   "mimetype": "text/x-python",
   "name": "python",
   "nbconvert_exporter": "python",
   "pygments_lexer": "ipython3",
   "version": "3.10.13"
  }
 },
 "nbformat": 4,
 "nbformat_minor": 2
}
